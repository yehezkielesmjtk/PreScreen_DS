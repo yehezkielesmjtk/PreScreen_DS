{
 "cells": [
  {
   "cell_type": "code",
   "execution_count": 1,
   "id": "44693b02",
   "metadata": {},
   "outputs": [],
   "source": [
    "text = \"\"\"As a term, data analytics predominantly refers to an assortment of applications, from basic business\n",
    "intelligence (BI), reporting and online analytical processing (OLAP) to various forms of advanced\n",
    "analytics. In that sense, it's similar in nature to business analytics, another umbrella term for\n",
    "approaches to analyzing data -- with the difference that the latter is oriented to business uses, while\n",
    "data analytics has a broader focus. The expansive view of the term isn't universal, though: In some\n",
    "cases, people use data analytics specifically to mean advanced analytics, treating BI as a separate\n",
    "category. Data analytics initiatives can help businesses increase revenues, improve operational\n",
    "efficiency, optimize marketing campaigns and customer service efforts, respond more quickly to\n",
    "emerging market trends and gain a competitive edge over rivals -- all with the ultimate goal of\n",
    "boosting business performance. Depending on the particular application, the data that's analyzed\n",
    "can consist of either historical records or new information that has been processed for real-time\n",
    "analytics uses. In addition, it can come from a mix of internal systems and external data sources. At\n",
    "a high level, data analytics methodologies include exploratory data analysis (EDA), which aims to find\n",
    "patterns and relationships in data, and confirmatory data analysis (CDA), which applies statistical\n",
    "techniques to determine whether hypotheses about a data set are true or false. EDA is often\n",
    "compared to detective work, while CDA is akin to the work of a judge or jury during a court trial -- a\n",
    "distinction first drawn by statistician John W. Tukey in his 1977 book Exploratory Data Analysis. Data\n",
    "analytics can also be separated into quantitative data analysis and qualitative data analysis. The\n",
    "former involves analysis of numerical data with quantifiable variables that can be compared or\n",
    "measured statistically. The qualitative approach is more interpretive -- it focuses on understanding\n",
    "the content of non-numerical data like text, images, audio and video, including common phrases,\n",
    "themes and points of view.\"\"\""
   ]
  },
  {
   "cell_type": "code",
   "execution_count": 2,
   "id": "2184ba2b",
   "metadata": {
    "scrolled": false
   },
   "outputs": [
    {
     "name": "stdout",
     "output_type": "stream",
     "text": [
      "as a term, data analytics predominantly refers to an assortment of applications, from basic business\n",
      "intelligence (bi), reporting and online analytical processing (olap) to various forms of advanced\n",
      "analytics. in that sense, it's similar in nature to business analytics, another umbrella term for\n",
      "approaches to analyzing data -- with the difference that the latter is oriented to business uses, while\n",
      "data analytics has a broader focus. the expansive view of the term isn't universal, though: in some\n",
      "cases, people use data analytics specifically to mean advanced analytics, treating bi as a separate\n",
      "category. data analytics initiatives can help businesses increase revenues, improve operational\n",
      "efficiency, optimize marketing campaigns and customer service efforts, respond more quickly to\n",
      "emerging market trends and gain a competitive edge over rivals -- all with the ultimate goal of\n",
      "boosting business performance. depending on the particular application, the data that's analyzed\n",
      "can consist of either historical records or new information that has been processed for real-time\n",
      "analytics uses. in addition, it can come from a mix of internal systems and external data sources. at\n",
      "a high level, data analytics methodologies include exploratory data analysis (eda), which aims to find\n",
      "patterns and relationships in data, and confirmatory data analysis (cda), which applies statistical\n",
      "techniques to determine whether hypotheses about a data set are true or false. eda is often\n",
      "compared to detective work, while cda is akin to the work of a judge or jury during a court trial -- a\n",
      "distinction first drawn by statistician john w. tukey in his 1977 book exploratory data analysis. data\n",
      "analytics can also be separated into quantitative data analysis and qualitative data analysis. the\n",
      "former involves analysis of numerical data with quantifiable variables that can be compared or\n",
      "measured statistically. the qualitative approach is more interpretive -- it focuses on understanding\n",
      "the content of non-numerical data like text, images, audio and video, including common phrases,\n",
      "themes and points of view.\n"
     ]
    }
   ],
   "source": [
    "processed_text = text.lower()\n",
    "print(processed_text)"
   ]
  },
  {
   "cell_type": "code",
   "execution_count": 3,
   "id": "c438d1c4",
   "metadata": {},
   "outputs": [
    {
     "name": "stdout",
     "output_type": "stream",
     "text": [
      "as a term, data analytics predominantly refers to an assortment of applications, from basic business\n",
      "intelligence (bi), reporting and online analytical processing (olap) to various forms of advanced\n",
      "analytics. in that sense, it is similar in nature to business analytics, another umbrella term for\n",
      "approaches to analyzing data -- with the difference that the latter is oriented to business uses, while\n",
      "data analytics has a broader focus. the expansive view of the term is not universal, though: in some\n",
      "cases, people use data analytics specifically to mean advanced analytics, treating bi as a separate\n",
      "category. data analytics initiatives can help businesses increase revenues, improve operational\n",
      "efficiency, optimize marketing campaigns and customer service efforts, respond more quickly to\n",
      "emerging market trends and gain a competitive edge over rivals -- all with the ultimate goal of\n",
      "boosting business performance. depending on the particular application, the data that is analyzed\n",
      "can consist of either historical records or new information that has been processed for real-time\n",
      "analytics uses. in addition, it can come from a mix of internal systems and external data sources. at\n",
      "a high level, data analytics methodologies include exploratory data analysis (eda), which aims to find\n",
      "patterns and relationships in data, and confirmatory data analysis (cda), which applies statistical\n",
      "techniques to determine whether hypotheses about a data set are true or false. eda is often\n",
      "compared to detective work, while cda is akin to the work of a judge or jury during a court trial -- a\n",
      "distinction first drawn by statistician john w. tukey in his 1977 book exploratory data analysis. data\n",
      "analytics can also be separated into quantitative data analysis and qualitative data analysis. the\n",
      "former involves analysis of numerical data with quantifiable variables that can be compared or\n",
      "measured statistically. the qualitative approach is more interpretive -- it focuses on understanding\n",
      "the content of non-numerical data like text, images, audio and video, including common phrases,\n",
      "themes and points of view.\n"
     ]
    }
   ],
   "source": [
    "processed_text = processed_text.replace(\"it's\", \"it is\")\n",
    "processed_text = processed_text.replace(\"isn't\", \"is not\")\n",
    "processed_text = processed_text.replace(\"that's\", \"that is\")\n",
    "print(processed_text)"
   ]
  },
  {
   "cell_type": "code",
   "execution_count": 4,
   "id": "6089d8e1",
   "metadata": {},
   "outputs": [
    {
     "name": "stdout",
     "output_type": "stream",
     "text": [
      "!\"#$%&'()*+,-./:;<=>?@[\\]^_`{|}~\n"
     ]
    }
   ],
   "source": [
    "# Source: https://datagy.io/python-remove-punctuation-from-string/\n",
    "import string\n",
    "\n",
    "print(string.punctuation)"
   ]
  },
  {
   "cell_type": "code",
   "execution_count": 5,
   "id": "51717257",
   "metadata": {},
   "outputs": [
    {
     "name": "stdout",
     "output_type": "stream",
     "text": [
      "as a term data analytics predominantly refers to an assortment of applications from basic business\n",
      "intelligence bi reporting and online analytical processing olap to various forms of advanced\n",
      "analytics in that sense it is similar in nature to business analytics another umbrella term for\n",
      "approaches to analyzing data  with the difference that the latter is oriented to business uses while\n",
      "data analytics has a broader focus the expansive view of the term is not universal though in some\n",
      "cases people use data analytics specifically to mean advanced analytics treating bi as a separate\n",
      "category data analytics initiatives can help businesses increase revenues improve operational\n",
      "efficiency optimize marketing campaigns and customer service efforts respond more quickly to\n",
      "emerging market trends and gain a competitive edge over rivals  all with the ultimate goal of\n",
      "boosting business performance depending on the particular application the data that is analyzed\n",
      "can consist of either historical records or new information that has been processed for realtime\n",
      "analytics uses in addition it can come from a mix of internal systems and external data sources at\n",
      "a high level data analytics methodologies include exploratory data analysis eda which aims to find\n",
      "patterns and relationships in data and confirmatory data analysis cda which applies statistical\n",
      "techniques to determine whether hypotheses about a data set are true or false eda is often\n",
      "compared to detective work while cda is akin to the work of a judge or jury during a court trial  a\n",
      "distinction first drawn by statistician john w tukey in his 1977 book exploratory data analysis data\n",
      "analytics can also be separated into quantitative data analysis and qualitative data analysis the\n",
      "former involves analysis of numerical data with quantifiable variables that can be compared or\n",
      "measured statistically the qualitative approach is more interpretive  it focuses on understanding\n",
      "the content of nonnumerical data like text images audio and video including common phrases\n",
      "themes and points of view\n"
     ]
    }
   ],
   "source": [
    "processed_text = processed_text.translate(str.maketrans('', '', string.punctuation))\n",
    "print(processed_text)"
   ]
  },
  {
   "cell_type": "code",
   "execution_count": 6,
   "id": "5e19d835",
   "metadata": {},
   "outputs": [
    {
     "name": "stdout",
     "output_type": "stream",
     "text": [
      "Number of lines in the text: 22\n"
     ]
    }
   ],
   "source": [
    "lines = processed_text.splitlines()\n",
    "count_lines = len(lines)\n",
    "print(\"Number of lines in the text: {}\".format(count_lines))"
   ]
  },
  {
   "cell_type": "code",
   "execution_count": 7,
   "id": "11aa60bf",
   "metadata": {},
   "outputs": [
    {
     "name": "stdout",
     "output_type": "stream",
     "text": [
      "['as', 'a', 'term', 'data', 'analytics', 'predominantly', 'refers', 'to', 'an', 'assortment', 'of', 'applications', 'from', 'basic', 'business', 'intelligence', 'bi', 'reporting', 'and', 'online', 'analytical', 'processing', 'olap', 'to', 'various', 'forms', 'of', 'advanced', 'analytics', 'in', 'that', 'sense', 'it', 'is', 'similar', 'in', 'nature', 'to', 'business', 'analytics', 'another', 'umbrella', 'term', 'for', 'approaches', 'to', 'analyzing', 'data', 'with', 'the', 'difference', 'that', 'the', 'latter', 'is', 'oriented', 'to', 'business', 'uses', 'while', 'data', 'analytics', 'has', 'a', 'broader', 'focus', 'the', 'expansive', 'view', 'of', 'the', 'term', 'is', 'not', 'universal', 'though', 'in', 'some', 'cases', 'people', 'use', 'data', 'analytics', 'specifically', 'to', 'mean', 'advanced', 'analytics', 'treating', 'bi', 'as', 'a', 'separate', 'category', 'data', 'analytics', 'initiatives', 'can', 'help', 'businesses', 'increase', 'revenues', 'improve', 'operational', 'efficiency', 'optimize', 'marketing', 'campaigns', 'and', 'customer', 'service', 'efforts', 'respond', 'more', 'quickly', 'to', 'emerging', 'market', 'trends', 'and', 'gain', 'a', 'competitive', 'edge', 'over', 'rivals', 'all', 'with', 'the', 'ultimate', 'goal', 'of', 'boosting', 'business', 'performance', 'depending', 'on', 'the', 'particular', 'application', 'the', 'data', 'that', 'is', 'analyzed', 'can', 'consist', 'of', 'either', 'historical', 'records', 'or', 'new', 'information', 'that', 'has', 'been', 'processed', 'for', 'realtime', 'analytics', 'uses', 'in', 'addition', 'it', 'can', 'come', 'from', 'a', 'mix', 'of', 'internal', 'systems', 'and', 'external', 'data', 'sources', 'at', 'a', 'high', 'level', 'data', 'analytics', 'methodologies', 'include', 'exploratory', 'data', 'analysis', 'eda', 'which', 'aims', 'to', 'find', 'patterns', 'and', 'relationships', 'in', 'data', 'and', 'confirmatory', 'data', 'analysis', 'cda', 'which', 'applies', 'statistical', 'techniques', 'to', 'determine', 'whether', 'hypotheses', 'about', 'a', 'data', 'set', 'are', 'true', 'or', 'false', 'eda', 'is', 'often', 'compared', 'to', 'detective', 'work', 'while', 'cda', 'is', 'akin', 'to', 'the', 'work', 'of', 'a', 'judge', 'or', 'jury', 'during', 'a', 'court', 'trial', 'a', 'distinction', 'first', 'drawn', 'by', 'statistician', 'john', 'w', 'tukey', 'in', 'his', '1977', 'book', 'exploratory', 'data', 'analysis', 'data', 'analytics', 'can', 'also', 'be', 'separated', 'into', 'quantitative', 'data', 'analysis', 'and', 'qualitative', 'data', 'analysis', 'the', 'former', 'involves', 'analysis', 'of', 'numerical', 'data', 'with', 'quantifiable', 'variables', 'that', 'can', 'be', 'compared', 'or', 'measured', 'statistically', 'the', 'qualitative', 'approach', 'is', 'more', 'interpretive', 'it', 'focuses', 'on', 'understanding', 'the', 'content', 'of', 'nonnumerical', 'data', 'like', 'text', 'images', 'audio', 'and', 'video', 'including', 'common', 'phrases', 'themes', 'and', 'points', 'of', 'view']\n",
      "\n",
      "Number of words in the text: 318\n"
     ]
    }
   ],
   "source": [
    "import nltk\n",
    "from nltk.tokenize import word_tokenize\n",
    "\n",
    "tokens = nltk.tokenize.word_tokenize(processed_text)\n",
    "print(tokens)\n",
    "print(\"\\nNumber of words in the text: {}\".format(len(tokens)))"
   ]
  },
  {
   "cell_type": "code",
   "execution_count": 8,
   "id": "8a1b16cd",
   "metadata": {},
   "outputs": [
    {
     "name": "stdout",
     "output_type": "stream",
     "text": [
      "Number of word 'data' in the text: 18\n"
     ]
    }
   ],
   "source": [
    "count_data = 0\n",
    "for word in tokens:\n",
    "    if word == 'data':\n",
    "        count_data += 1\n",
    "print(\"Number of word 'data' in the text: {}\".format(count_data))"
   ]
  },
  {
   "cell_type": "code",
   "execution_count": 9,
   "id": "e91e6b03",
   "metadata": {},
   "outputs": [
    {
     "name": "stdout",
     "output_type": "stream",
     "text": [
      "The probability of the word 'data' occurring in each line: 0.8181818181818182\n"
     ]
    }
   ],
   "source": [
    "prob_data_line = count_data / count_lines # number of word 'data' in the text divided by number of lines\n",
    "print(\"The probability of the word 'data' occurring in each line: {}\".format(prob_data_line))"
   ]
  },
  {
   "cell_type": "code",
   "execution_count": 10,
   "id": "5a5aa423",
   "metadata": {},
   "outputs": [],
   "source": [
    "import re\n",
    "\n",
    "unique_words_every_line = []\n",
    "\n",
    "for line in lines:\n",
    "    words_every_line = re.findall('\\w+', line)\n",
    "    unique_words = set(words_every_line)\n",
    "    unique_words_every_line.append(len(unique_words))"
   ]
  },
  {
   "cell_type": "code",
   "execution_count": 11,
   "id": "29559507",
   "metadata": {},
   "outputs": [
    {
     "data": {
      "text/html": [
       "<div>\n",
       "<style scoped>\n",
       "    .dataframe tbody tr th:only-of-type {\n",
       "        vertical-align: middle;\n",
       "    }\n",
       "\n",
       "    .dataframe tbody tr th {\n",
       "        vertical-align: top;\n",
       "    }\n",
       "\n",
       "    .dataframe thead th {\n",
       "        text-align: right;\n",
       "    }\n",
       "</style>\n",
       "<table border=\"1\" class=\"dataframe\">\n",
       "  <thead>\n",
       "    <tr style=\"text-align: right;\">\n",
       "      <th></th>\n",
       "      <th>Line</th>\n",
       "      <th>Number of Words</th>\n",
       "    </tr>\n",
       "  </thead>\n",
       "  <tbody>\n",
       "    <tr>\n",
       "      <th>0</th>\n",
       "      <td>1</td>\n",
       "      <td>15</td>\n",
       "    </tr>\n",
       "    <tr>\n",
       "      <th>1</th>\n",
       "      <td>2</td>\n",
       "      <td>13</td>\n",
       "    </tr>\n",
       "    <tr>\n",
       "      <th>2</th>\n",
       "      <td>3</td>\n",
       "      <td>14</td>\n",
       "    </tr>\n",
       "    <tr>\n",
       "      <th>3</th>\n",
       "      <td>4</td>\n",
       "      <td>14</td>\n",
       "    </tr>\n",
       "    <tr>\n",
       "      <th>4</th>\n",
       "      <td>5</td>\n",
       "      <td>17</td>\n",
       "    </tr>\n",
       "    <tr>\n",
       "      <th>5</th>\n",
       "      <td>6</td>\n",
       "      <td>14</td>\n",
       "    </tr>\n",
       "    <tr>\n",
       "      <th>6</th>\n",
       "      <td>7</td>\n",
       "      <td>11</td>\n",
       "    </tr>\n",
       "    <tr>\n",
       "      <th>7</th>\n",
       "      <td>8</td>\n",
       "      <td>12</td>\n",
       "    </tr>\n",
       "    <tr>\n",
       "      <th>8</th>\n",
       "      <td>9</td>\n",
       "      <td>16</td>\n",
       "    </tr>\n",
       "    <tr>\n",
       "      <th>9</th>\n",
       "      <td>10</td>\n",
       "      <td>12</td>\n",
       "    </tr>\n",
       "    <tr>\n",
       "      <th>10</th>\n",
       "      <td>11</td>\n",
       "      <td>15</td>\n",
       "    </tr>\n",
       "    <tr>\n",
       "      <th>11</th>\n",
       "      <td>12</td>\n",
       "      <td>18</td>\n",
       "    </tr>\n",
       "    <tr>\n",
       "      <th>12</th>\n",
       "      <td>13</td>\n",
       "      <td>14</td>\n",
       "    </tr>\n",
       "    <tr>\n",
       "      <th>13</th>\n",
       "      <td>14</td>\n",
       "      <td>11</td>\n",
       "    </tr>\n",
       "    <tr>\n",
       "      <th>14</th>\n",
       "      <td>15</td>\n",
       "      <td>16</td>\n",
       "    </tr>\n",
       "    <tr>\n",
       "      <th>15</th>\n",
       "      <td>16</td>\n",
       "      <td>17</td>\n",
       "    </tr>\n",
       "    <tr>\n",
       "      <th>16</th>\n",
       "      <td>17</td>\n",
       "      <td>15</td>\n",
       "    </tr>\n",
       "    <tr>\n",
       "      <th>17</th>\n",
       "      <td>18</td>\n",
       "      <td>12</td>\n",
       "    </tr>\n",
       "    <tr>\n",
       "      <th>18</th>\n",
       "      <td>19</td>\n",
       "      <td>14</td>\n",
       "    </tr>\n",
       "    <tr>\n",
       "      <th>19</th>\n",
       "      <td>20</td>\n",
       "      <td>12</td>\n",
       "    </tr>\n",
       "    <tr>\n",
       "      <th>20</th>\n",
       "      <td>21</td>\n",
       "      <td>14</td>\n",
       "    </tr>\n",
       "    <tr>\n",
       "      <th>21</th>\n",
       "      <td>22</td>\n",
       "      <td>5</td>\n",
       "    </tr>\n",
       "  </tbody>\n",
       "</table>\n",
       "</div>"
      ],
      "text/plain": [
       "    Line  Number of Words\n",
       "0      1               15\n",
       "1      2               13\n",
       "2      3               14\n",
       "3      4               14\n",
       "4      5               17\n",
       "5      6               14\n",
       "6      7               11\n",
       "7      8               12\n",
       "8      9               16\n",
       "9     10               12\n",
       "10    11               15\n",
       "11    12               18\n",
       "12    13               14\n",
       "13    14               11\n",
       "14    15               16\n",
       "15    16               17\n",
       "16    17               15\n",
       "17    18               12\n",
       "18    19               14\n",
       "19    20               12\n",
       "20    21               14\n",
       "21    22                5"
      ]
     },
     "execution_count": 11,
     "metadata": {},
     "output_type": "execute_result"
    }
   ],
   "source": [
    "import pandas as pd\n",
    "\n",
    "df = pd.DataFrame()\n",
    "df['Line'] = pd.DataFrame(range(1, 23)) # Number of lines in the text: 22\n",
    "df['Number of Words'] = pd.DataFrame(unique_words_every_line)\n",
    "df"
   ]
  },
  {
   "cell_type": "code",
   "execution_count": 12,
   "id": "77565dfd",
   "metadata": {
    "scrolled": true
   },
   "outputs": [
    {
     "data": {
      "image/png": "[encoded data removed]",
      "text/plain": [
       "<Figure size 432x288 with 1 Axes>"
      ]
     },
     "metadata": {
      "needs_background": "light"
     },
     "output_type": "display_data"
    }
   ],
   "source": [
    "import matplotlib.pyplot as plt\n",
    "\n",
    "plt.bar(df['Line'], df['Number of Words'])\n",
    "plt.title('Number of Words Every Line')\n",
    "plt.xlabel('Line')\n",
    "plt.ylabel('Number of Words')\n",
    "plt.show()"
   ]
  },
  {
   "cell_type": "code",
   "execution_count": 13,
   "id": "7b8a655f",
   "metadata": {
    "scrolled": true
   },
   "outputs": [],
   "source": [
    "from nltk.util import ngrams # function for making ngrams\n",
    "\n",
    "textBigrams = ngrams(tokens, 2)\n",
    "# list(textBigrams)[:10]"
   ]
  },
  {
   "cell_type": "code",
   "execution_count": 14,
   "id": "9adc03e4",
   "metadata": {},
   "outputs": [
    {
     "data": {
      "text/plain": [
       "[(('data', 'analytics'), 6),\n",
       " (('data', 'analysis'), 5),\n",
       " (('as', 'a'), 2),\n",
       " (('advanced', 'analytics'), 2),\n",
       " (('to', 'business'), 2),\n",
       " (('data', 'with'), 2),\n",
       " (('with', 'the'), 2),\n",
       " (('exploratory', 'data'), 2),\n",
       " (('a', 'term'), 1),\n",
       " (('term', 'data'), 1)]"
      ]
     },
     "execution_count": 14,
     "metadata": {},
     "output_type": "execute_result"
    }
   ],
   "source": [
    "import collections\n",
    "\n",
    "# Get the frequency of each bigram in our text\n",
    "textBigramFreq = collections.Counter(textBigrams)\n",
    "\n",
    "# What are the ten most popular ngrams in this text?\n",
    "textBigramFreq.most_common(10)"
   ]
  },
  {
   "cell_type": "code",
   "execution_count": 15,
   "id": "68f81ea7",
   "metadata": {},
   "outputs": [
    {
     "name": "stdout",
     "output_type": "stream",
     "text": [
      "The probability of the word 'analytics' occurring after the word 'data': 0.3333333333333333\n"
     ]
    }
   ],
   "source": [
    "# count(data analytics) / count(data)\n",
    "prob = 6 / count_data\n",
    "print(\"The probability of the word 'analytics' occurring after the word 'data': {}\".format(prob))"
   ]
  }
 ],
 "metadata": {
  "kernelspec": {
   "display_name": "Python 3 (ipykernel)",
   "language": "python",
   "name": "python3"
  },
  "language_info": {
   "codemirror_mode": {
    "name": "ipython",
    "version": 3
   },
   "file_extension": ".py",
   "mimetype": "text/x-python",
   "name": "python",
   "nbconvert_exporter": "python",
   "pygments_lexer": "ipython3",
   "version": "3.10.4"
  }
 },
 "nbformat": 4,
 "nbformat_minor": 5
}
